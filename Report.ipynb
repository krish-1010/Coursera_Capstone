{
    "cells": [
        {
            "cell_type": "markdown",
            "metadata": {
                "collapsed": true
            },
            "source": "# ***Introduction to the project: Battle of neighbourhoods***"
        },
        {
            "cell_type": "markdown",
            "metadata": {},
            "source": "### A description of the problem and a discussion of the background"
        },
        {
            "cell_type": "markdown",
            "metadata": {},
            "source": "***Problem***: A group of stakeholders had recruited me to find and suggest a best place to start a Restaurant/hotel in the capital of Tamil Nadu, India. This problem revolves around gathering information about that city's geographical information and also collecting information about existing hotels in the given area which is a great factor that affects the current problem. The group of stakeholders are from a startup company so they need the result to give the needs according to that."
        },
        {
            "cell_type": "markdown",
            "metadata": {},
            "source": "Disscussion of the background: The group of stakeholders are from a starup hence, their scale is a small-scale. Hence we have to collect the data of the neighbourhoods of the chennai city and their co-ordinates of each neighbourhoods. Also aqcuiring the data of the existing hotels which can be accomplished by using foursquare service. We need to combine all these data and choose a methodology to process the data and to get the result."
        },
        {
            "cell_type": "markdown",
            "metadata": {},
            "source": "It is clear that the data required for this problem must contain maxiumum number of neighbourhood in the chennai city and we should get their co-ordinates in order to locate them on the map model using a module on python called follium and the existing hotels/restaurants in the city and that can be obtained from the foursquare services"
        },
        {
            "cell_type": "markdown",
            "metadata": {},
            "source": "### A description of the data and how it will be used to solve the problem."
        },
        {
            "cell_type": "markdown",
            "metadata": {},
            "source": "In this problem we can acquire the data of the neighbourhoods of the chennai city and also, each one of their co-ordinates are given in the link https://krishblazer.000webhostapp.com/ which makes our job little easy. \nWe can use this link to scrape the data from the page using beautifulsoup and parse it according to our needs and use pandas to create a dataset and follium to mark the scraped in the map"
        },
        {
            "cell_type": "markdown",
            "metadata": {},
            "source": "Foursquare will help us to get the crucial places like the hotels and popular places that people visit so that they might need the food and as we are going to deploy hotels that data is essential for more accurate result."
        },
        {
            "cell_type": "markdown",
            "metadata": {},
            "source": "Let us start by installing and importing the nessessary Libraries and modules"
        },
        {
            "cell_type": "markdown",
            "metadata": {},
            "source": "### ***Methodology*** \n\nAs the neighborhoods data of the city and the most popular venues in each neighborhood obtained using Foursquare API, 141 unique categories has been found but to create a good analysis let's consider only the neighborhoods with more than 10 venues as some of the venues has less than 10 which wont get us to the required accuracy\n\nWe can perform one hot encoding on the obtained data set and use it find the 10 most common venue category in each neighborhood. Then clustering can be performed on the dataset. Here K - Nearest Neighbor clustering technique have been used. To find the optimal number of clusters silhouette score metric technique is used.\n\nThe clusters obtained can be analyzed to find the major type of venue categories in each cluster. This data can be used to suggest business people, suitable locations based on the category."
        },
        {
            "cell_type": "markdown",
            "metadata": {},
            "source": "#### ***Result:***"
        },
        {
            "cell_type": "markdown",
            "metadata": {},
            "source": "By the Bargraphs, we can clearly see that cluster 8 has the lowest number of hotels among every clusters but it isn't the optimal cluster to start a hotel as we need because the other popular places or venues in that cluster is also very low, where it will affect our result as people not coming to those places more hence our optimal cluster should contain less number of hotels also with high number of popular venues. Hence, cluster 4 and cluster 5 will be preffered for starting the hotel our stakeholders were looking for and those areas namely, Triplicane, Anna statue and Mambalam"
        },
        {
            "cell_type": "markdown",
            "metadata": {},
            "source": "### ***Discussion section:***"
        },
        {
            "cell_type": "markdown",
            "metadata": {},
            "source": "As of now, this project revolves around with the data availability in live so in upcoming future the big data will be available more and the result will become more and more"
        },
        {
            "cell_type": "markdown",
            "metadata": {},
            "source": "### ***Conclusion section***"
        },
        {
            "cell_type": "markdown",
            "metadata": {},
            "source": "Hence, deploying hotels on Triplicane would be suggested to the startup stakeholders"
        }
    ],
    "metadata": {
        "kernelspec": {
            "display_name": "Python 3.7",
            "language": "python",
            "name": "python3"
        },
        "language_info": {
            "codemirror_mode": {
                "name": "ipython",
                "version": 3
            },
            "file_extension": ".py",
            "mimetype": "text/x-python",
            "name": "python",
            "nbconvert_exporter": "python",
            "pygments_lexer": "ipython3",
            "version": "3.7.9"
        }
    },
    "nbformat": 4,
    "nbformat_minor": 1
}